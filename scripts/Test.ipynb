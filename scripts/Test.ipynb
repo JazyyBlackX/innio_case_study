{
 "cells": [
  {
   "cell_type": "code",
   "execution_count": null,
   "id": "86d9ab88",
   "metadata": {},
   "outputs": [
    {
     "name": "stdout",
     "output_type": "stream",
     "text": [
      "['Berlin', 'México D.F.', 'London', 'Luleå', 'Mannheim', 'Strasbourg', 'Madrid', 'Marseille', 'Tsawassen', 'Buenos Aires', 'Bern', 'Sao Paulo', 'Aachen', 'Nantes', 'Graz', 'Lille', 'Bräcke', 'München', 'Torino', 'Lisboa', 'Barcelona', 'Sevilla', 'Campinas', 'Eugene', 'Caracas', 'Rio de Janeiro', 'San Cristóbal', 'Elgin', 'Cork', 'Cowes', 'Brandenburg', 'Versailles', 'Toulouse', 'Vancouver', 'Walla Walla', 'Frankfurt a.M.', 'San Francisco', 'Barquisimeto', 'I. de Margarita', 'Portland', 'Bergamo', 'Bruxelles', 'Montréal', 'Leipzig', 'Anchorage', 'Köln', 'Paris', 'Salzburg', 'Cunewalde', 'Albuquerque', 'Reggio Emilia', 'Genève', 'Stavern', 'Boise', 'Kobenhavn', 'Lander', 'Charleroi', 'Butte', 'Münster', 'Kirkland', 'Århus', None, 'Lyon', 'Reims', 'Stuttgart', 'Oulu', 'Resende', 'Seattle', 'Helsinki', 'Warszawa']\n"
     ]
    }
   ],
   "source": [
    "import sqlite3\n",
    "import pandas as pd\n",
    "\n",
    "conn = sqlite3.connect(r'C:\\Users\\user\\innio_case_study\\data\\northwind.db')\n",
    "c_df = pd.read_sql_query(\"select * from customers\", conn)\n",
    "o_df = pd.read_sql_query(\"select * from orders\", conn)\n",
    "list_cities = c_df['City'].unique().tolist()\n",
    "print(list_cities)"
   ]
  },
  {
   "cell_type": "code",
   "execution_count": 41,
   "id": "1d55f8e8",
   "metadata": {},
   "outputs": [
    {
     "data": {
      "text/plain": [
       "16282"
      ]
     },
     "execution_count": 41,
     "metadata": {},
     "output_type": "execute_result"
    }
   ],
   "source": [
    "conn2 = sqlite3.connect(r'C:\\Users\\user\\innio_case_study\\data\\datawarehouse.db')\n",
    "c_df.to_sql(\"bronze_customers\", conn2, if_exists=\"replace\", index=False)\n",
    "o_df.to_sql(\"bronze_orders\", conn2, if_exists=\"replace\", index=False)\n"
   ]
  },
  {
   "cell_type": "code",
   "execution_count": 135,
   "id": "b6eb7e54",
   "metadata": {},
   "outputs": [
    {
     "name": "stdout",
     "output_type": "stream",
     "text": [
      "Failed for México D.F.: Status 404\n",
      "Failed for Tsawassen: Status 404\n",
      "Failed for Frankfurt a.M.: Status 404\n",
      "Failed for I. de Margarita: Status 404\n"
     ]
    }
   ],
   "source": [
    "import requests\n",
    "import pandas as pd\n",
    "\n",
    "api_key = \"8de9abed422e492a58cf716b0e24caf0\"\n",
    "\n",
    "weather_data = []\n",
    "\n",
    "for city in list_cities:\n",
    "    url = f\"https://api.openweathermap.org/data/2.5/weather?q={city}&appid={api_key}&units=metric\"\n",
    "    response = requests.get(url)\n",
    "\n",
    "    if response.status_code == 200:\n",
    "        data = response.json()\n",
    "\n",
    "        # Manual field extraction with safety checks\n",
    "        weather_info = {\n",
    "            'input_city': city,\n",
    "            'api_city_name': data.get('name'),\n",
    "            'country': data.get('sys', {}).get('country'),\n",
    "            'lat': data.get('coord', {}).get('lat'),\n",
    "            'lon': data.get('coord', {}).get('lon'),\n",
    "            'temperature_C': data.get('main', {}).get('temp'),\n",
    "            'feels_like_C': data.get('main', {}).get('feels_like'),\n",
    "            'humidity_%': data.get('main', {}).get('humidity'),\n",
    "            'pressure_hPa': data.get('main', {}).get('pressure'),\n",
    "            'wind_speed_mps': data.get('wind', {}).get('speed'),\n",
    "            'cloud_coverage_%': data.get('clouds', {}).get('all'),\n",
    "            'weather_main': data.get('weather', [{}])[0].get('main'),\n",
    "            'weather_description': data.get('weather', [{}])[0].get('description'),\n",
    "        }\n",
    "\n",
    "        weather_data.append(weather_info)\n",
    "    else:\n",
    "        print(f\"Failed for {city}: Status {response.status_code}\")\n",
    "\n",
    "# Convert to DataFrame\n",
    "weather_df = pd.DataFrame(weather_data)\n",
    "\n"
   ]
  },
  {
   "cell_type": "code",
   "execution_count": 26,
   "id": "11dd1d61",
   "metadata": {},
   "outputs": [],
   "source": [
    "weather_df = weather_df.rename(columns={'api_city_name': 'City'})  # Rename 'name' to 'City' for consistency\n"
   ]
  },
  {
   "cell_type": "code",
   "execution_count": null,
   "id": "3cbbc949",
   "metadata": {},
   "outputs": [],
   "source": [
    "weather_df['City'] = weather_df['City'].astype(str)  # Ensure 'City' is a string type"
   ]
  },
  {
   "cell_type": "code",
   "execution_count": 31,
   "id": "4ef07f5c",
   "metadata": {},
   "outputs": [],
   "source": [
    "import unicodedata\n",
    "\n",
    "def normalize(city):\n",
    "    if pd.isna(city):\n",
    "        return None\n",
    "    # Remove accents, convert to lowercase, strip whitespace\n",
    "    return ''.join(\n",
    "        c for c in unicodedata.normalize('NFD', city)\n",
    "        if unicodedata.category(c) != 'Mn'\n",
    "    ).lower().strip()\n",
    "\n",
    "c_df['City'] = c_df['City'].apply(normalize)\n",
    "weather_df['City'] = weather_df['City'].apply(normalize)"
   ]
  },
  {
   "cell_type": "code",
   "execution_count": 108,
   "id": "b150bcff",
   "metadata": {},
   "outputs": [],
   "source": [
    "geo_df = c_df.merge(\n",
    "    weather_df.set_index(['City']),\n",
    "    left_on=['City'],\n",
    "    right_index=True,\n",
    "    how='left'\n",
    ")"
   ]
  },
  {
   "cell_type": "code",
   "execution_count": 109,
   "id": "527afebd",
   "metadata": {},
   "outputs": [],
   "source": [
    "# Rename all columns in geo_df to PascalCase\n",
    "geo_df.columns = [col.strip().replace('_', ' ').title().replace(' ', '') for col in geo_df.columns]"
   ]
  },
  {
   "cell_type": "code",
   "execution_count": 110,
   "id": "b151f8fa",
   "metadata": {},
   "outputs": [],
   "source": [
    "geo_df.rename(columns={\n",
    "    \"Customerid\": \"Customer_ID\",\n",
    "    \"Companyname\": \"company_name\",\n",
    "    \"Contactname\": \"contact_name\",\n",
    "    \"Contacttitle\": \"contact_title\",\n",
    "    \"Postalcode\": \"postal_code\",\n",
    "    \"InputCity\": \"input_city\",\n",
    "    \"TemperatureC\": \"temperature_c\",\n",
    "    \"FeelsLikeC\": \"feels_like_c\",\n",
    "    \"Humidity%\": \"humidity\",\n",
    "    \"PressureHpa\": \"pressure_hpa\",\n",
    "    \"WindSpeedMps\": \"wind_speed_mps\",\n",
    "    \"CloudCoverage%\": \"cloud_coverage\",\n",
    "    \"WeatherMain\": \"weather_main\",\n",
    "    \"WeatherDescription\": \"weather_description\"\n",
    "}, inplace=True)"
   ]
  },
  {
   "cell_type": "code",
   "execution_count": 111,
   "id": "5af1e0e2",
   "metadata": {},
   "outputs": [
    {
     "data": {
      "text/html": [
       "<div>\n",
       "<style scoped>\n",
       "    .dataframe tbody tr th:only-of-type {\n",
       "        vertical-align: middle;\n",
       "    }\n",
       "\n",
       "    .dataframe tbody tr th {\n",
       "        vertical-align: top;\n",
       "    }\n",
       "\n",
       "    .dataframe thead th {\n",
       "        text-align: right;\n",
       "    }\n",
       "</style>\n",
       "<table border=\"1\" class=\"dataframe\">\n",
       "  <thead>\n",
       "    <tr style=\"text-align: right;\">\n",
       "      <th></th>\n",
       "      <th>Customer_ID</th>\n",
       "      <th>company_name</th>\n",
       "      <th>contact_name</th>\n",
       "      <th>contact_title</th>\n",
       "      <th>Address</th>\n",
       "      <th>City</th>\n",
       "      <th>Region</th>\n",
       "      <th>postal_code</th>\n",
       "      <th>Country</th>\n",
       "      <th>Phone</th>\n",
       "      <th>...</th>\n",
       "      <th>Lat</th>\n",
       "      <th>Lon</th>\n",
       "      <th>temperature_c</th>\n",
       "      <th>feels_like_c</th>\n",
       "      <th>humidity</th>\n",
       "      <th>pressure_hpa</th>\n",
       "      <th>wind_speed_mps</th>\n",
       "      <th>cloud_coverage</th>\n",
       "      <th>weather_main</th>\n",
       "      <th>weather_description</th>\n",
       "    </tr>\n",
       "  </thead>\n",
       "  <tbody>\n",
       "    <tr>\n",
       "      <th>0</th>\n",
       "      <td>ALFKI</td>\n",
       "      <td>Alfreds Futterkiste</td>\n",
       "      <td>Maria Anders</td>\n",
       "      <td>Sales Representative</td>\n",
       "      <td>Obere Str. 57</td>\n",
       "      <td>berlin</td>\n",
       "      <td>Western Europe</td>\n",
       "      <td>12209</td>\n",
       "      <td>Germany</td>\n",
       "      <td>030-0074321</td>\n",
       "      <td>...</td>\n",
       "      <td>52.5244</td>\n",
       "      <td>13.4105</td>\n",
       "      <td>22.57</td>\n",
       "      <td>22.71</td>\n",
       "      <td>70.0</td>\n",
       "      <td>1009.0</td>\n",
       "      <td>5.14</td>\n",
       "      <td>40.0</td>\n",
       "      <td>Clouds</td>\n",
       "      <td>scattered clouds</td>\n",
       "    </tr>\n",
       "    <tr>\n",
       "      <th>1</th>\n",
       "      <td>ANATR</td>\n",
       "      <td>Ana Trujillo Emparedados y helados</td>\n",
       "      <td>Ana Trujillo</td>\n",
       "      <td>Owner</td>\n",
       "      <td>Avda. de la Constitución 2222</td>\n",
       "      <td>mexico d.f.</td>\n",
       "      <td>Central America</td>\n",
       "      <td>05021</td>\n",
       "      <td>Mexico</td>\n",
       "      <td>(5) 555-4729</td>\n",
       "      <td>...</td>\n",
       "      <td>NaN</td>\n",
       "      <td>NaN</td>\n",
       "      <td>NaN</td>\n",
       "      <td>NaN</td>\n",
       "      <td>NaN</td>\n",
       "      <td>NaN</td>\n",
       "      <td>NaN</td>\n",
       "      <td>NaN</td>\n",
       "      <td>NaN</td>\n",
       "      <td>NaN</td>\n",
       "    </tr>\n",
       "    <tr>\n",
       "      <th>2</th>\n",
       "      <td>ANTON</td>\n",
       "      <td>Antonio Moreno Taquería</td>\n",
       "      <td>Antonio Moreno</td>\n",
       "      <td>Owner</td>\n",
       "      <td>Mataderos  2312</td>\n",
       "      <td>mexico d.f.</td>\n",
       "      <td>Central America</td>\n",
       "      <td>05023</td>\n",
       "      <td>Mexico</td>\n",
       "      <td>(5) 555-3932</td>\n",
       "      <td>...</td>\n",
       "      <td>NaN</td>\n",
       "      <td>NaN</td>\n",
       "      <td>NaN</td>\n",
       "      <td>NaN</td>\n",
       "      <td>NaN</td>\n",
       "      <td>NaN</td>\n",
       "      <td>NaN</td>\n",
       "      <td>NaN</td>\n",
       "      <td>NaN</td>\n",
       "      <td>NaN</td>\n",
       "    </tr>\n",
       "    <tr>\n",
       "      <th>3</th>\n",
       "      <td>AROUT</td>\n",
       "      <td>Around the Horn</td>\n",
       "      <td>Thomas Hardy</td>\n",
       "      <td>Sales Representative</td>\n",
       "      <td>120 Hanover Sq.</td>\n",
       "      <td>london</td>\n",
       "      <td>British Isles</td>\n",
       "      <td>WA1 1DP</td>\n",
       "      <td>UK</td>\n",
       "      <td>(171) 555-7788</td>\n",
       "      <td>...</td>\n",
       "      <td>51.5085</td>\n",
       "      <td>-0.1257</td>\n",
       "      <td>22.44</td>\n",
       "      <td>22.12</td>\n",
       "      <td>53.0</td>\n",
       "      <td>1020.0</td>\n",
       "      <td>3.60</td>\n",
       "      <td>40.0</td>\n",
       "      <td>Clouds</td>\n",
       "      <td>scattered clouds</td>\n",
       "    </tr>\n",
       "    <tr>\n",
       "      <th>4</th>\n",
       "      <td>BERGS</td>\n",
       "      <td>Berglunds snabbköp</td>\n",
       "      <td>Christina Berglund</td>\n",
       "      <td>Order Administrator</td>\n",
       "      <td>Berguvsvägen  8</td>\n",
       "      <td>lulea</td>\n",
       "      <td>Northern Europe</td>\n",
       "      <td>S-958 22</td>\n",
       "      <td>Sweden</td>\n",
       "      <td>0921-12 34 65</td>\n",
       "      <td>...</td>\n",
       "      <td>65.5842</td>\n",
       "      <td>22.1547</td>\n",
       "      <td>24.04</td>\n",
       "      <td>24.30</td>\n",
       "      <td>69.0</td>\n",
       "      <td>1008.0</td>\n",
       "      <td>2.57</td>\n",
       "      <td>0.0</td>\n",
       "      <td>Clear</td>\n",
       "      <td>clear sky</td>\n",
       "    </tr>\n",
       "  </tbody>\n",
       "</table>\n",
       "<p>5 rows × 23 columns</p>\n",
       "</div>"
      ],
      "text/plain": [
       "  Customer_ID                        company_name        contact_name  \\\n",
       "0       ALFKI                 Alfreds Futterkiste        Maria Anders   \n",
       "1       ANATR  Ana Trujillo Emparedados y helados        Ana Trujillo   \n",
       "2       ANTON             Antonio Moreno Taquería      Antonio Moreno   \n",
       "3       AROUT                     Around the Horn        Thomas Hardy   \n",
       "4       BERGS                  Berglunds snabbköp  Christina Berglund   \n",
       "\n",
       "          contact_title                        Address         City  \\\n",
       "0  Sales Representative                  Obere Str. 57       berlin   \n",
       "1                 Owner  Avda. de la Constitución 2222  mexico d.f.   \n",
       "2                 Owner                Mataderos  2312  mexico d.f.   \n",
       "3  Sales Representative                120 Hanover Sq.       london   \n",
       "4   Order Administrator                Berguvsvägen  8        lulea   \n",
       "\n",
       "            Region postal_code  Country           Phone  ...      Lat  \\\n",
       "0   Western Europe       12209  Germany     030-0074321  ...  52.5244   \n",
       "1  Central America       05021   Mexico    (5) 555-4729  ...      NaN   \n",
       "2  Central America       05023   Mexico    (5) 555-3932  ...      NaN   \n",
       "3    British Isles     WA1 1DP       UK  (171) 555-7788  ...  51.5085   \n",
       "4  Northern Europe    S-958 22   Sweden   0921-12 34 65  ...  65.5842   \n",
       "\n",
       "       Lon temperature_c  feels_like_c  humidity  pressure_hpa  \\\n",
       "0  13.4105         22.57         22.71      70.0        1009.0   \n",
       "1      NaN           NaN           NaN       NaN           NaN   \n",
       "2      NaN           NaN           NaN       NaN           NaN   \n",
       "3  -0.1257         22.44         22.12      53.0        1020.0   \n",
       "4  22.1547         24.04         24.30      69.0        1008.0   \n",
       "\n",
       "   wind_speed_mps  cloud_coverage  weather_main  weather_description  \n",
       "0            5.14            40.0        Clouds     scattered clouds  \n",
       "1             NaN             NaN           NaN                  NaN  \n",
       "2             NaN             NaN           NaN                  NaN  \n",
       "3            3.60            40.0        Clouds     scattered clouds  \n",
       "4            2.57             0.0         Clear            clear sky  \n",
       "\n",
       "[5 rows x 23 columns]"
      ]
     },
     "execution_count": 111,
     "metadata": {},
     "output_type": "execute_result"
    }
   ],
   "source": [
    "geo_df.head()  # Display the first few rows of the merged DataFrame"
   ]
  },
  {
   "cell_type": "code",
   "execution_count": 112,
   "id": "1f8a5947",
   "metadata": {},
   "outputs": [],
   "source": [
    "geo_df.drop(columns=[\"Fax\", \"input_city\"], inplace=True)"
   ]
  },
  {
   "cell_type": "code",
   "execution_count": 113,
   "id": "944c0fd5",
   "metadata": {},
   "outputs": [],
   "source": [
    "geo_df[\"City\"] = geo_df[\"City\"].str.title().str.strip()\n",
    "geo_df[\"has_weather\"] = geo_df[\"Lat\"].notnull()\n"
   ]
  },
  {
   "cell_type": "code",
   "execution_count": 114,
   "id": "226f4c8d",
   "metadata": {},
   "outputs": [],
   "source": [
    "# Convert all column names to PascalCase\n",
    "geo_df.columns = [col.strip().replace('_', ' ').replace('%', 'Percent').replace('id', 'ID').title().replace(' ', '') for col in geo_df.columns]"
   ]
  },
  {
   "cell_type": "code",
   "execution_count": 115,
   "id": "458c1af3",
   "metadata": {},
   "outputs": [],
   "source": [
    "# Drop only one 'Country' column from geo_df, keeping the first occurrence\n",
    "geo_df = geo_df.loc[:, ~geo_df.columns.duplicated()]"
   ]
  },
  {
   "cell_type": "code",
   "execution_count": 116,
   "id": "5f860e33",
   "metadata": {},
   "outputs": [
    {
     "data": {
      "text/plain": [
       "93"
      ]
     },
     "execution_count": 116,
     "metadata": {},
     "output_type": "execute_result"
    }
   ],
   "source": [
    "geo_df.to_sql(\"silver_cust_weather\", conn2, if_exists=\"replace\", index=False)"
   ]
  },
  {
   "cell_type": "code",
   "execution_count": 118,
   "id": "130e08ea",
   "metadata": {},
   "outputs": [],
   "source": [
    "orders_df = pd.read_sql_query(\"\"\"\n",
    "    SELECT CustomerID, OrderID, EmployeeID, OrderDate\n",
    "    FROM bronze_orders\n",
    "\"\"\", conn2)\n",
    "\n",
    "full_join_df = pd.merge(orders_df, geo_df, left_on=\"CustomerID\", right_on=\"CustomerId\", how=\"left\")\n"
   ]
  },
  {
   "cell_type": "code",
   "execution_count": 123,
   "id": "f401cafd",
   "metadata": {},
   "outputs": [],
   "source": [
    "full_join_df = full_join_df.drop(columns=[\"CustomerId\"])\n"
   ]
  },
  {
   "cell_type": "code",
   "execution_count": 124,
   "id": "eb4346ae",
   "metadata": {},
   "outputs": [
    {
     "data": {
      "text/plain": [
       "16282"
      ]
     },
     "execution_count": 124,
     "metadata": {},
     "output_type": "execute_result"
    }
   ],
   "source": [
    "full_join_df.to_sql(\"silver_cust_weat_order\", conn2, if_exists=\"replace\", index=False)"
   ]
  },
  {
   "cell_type": "code",
   "execution_count": 50,
   "id": "f7d4fbee",
   "metadata": {},
   "outputs": [],
   "source": [
    "region_df = pd.read_excel(r\"C:\\Users\\user\\innio_case_study\\data\\region_mapping.xlsx\")"
   ]
  },
  {
   "cell_type": "code",
   "execution_count": 51,
   "id": "1060a775",
   "metadata": {},
   "outputs": [
    {
     "data": {
      "text/plain": [
       "21"
      ]
     },
     "execution_count": 51,
     "metadata": {},
     "output_type": "execute_result"
    }
   ],
   "source": [
    "region_df.to_sql(\"bronze_region_mapping\", conn2, if_exists=\"replace\", index=False)"
   ]
  },
  {
   "cell_type": "code",
   "execution_count": 131,
   "id": "7a2fd209",
   "metadata": {},
   "outputs": [],
   "source": [
    "region_df.columns = [col.strip().lower().replace(\" \", \"_\") for col in region_df.columns]\n",
    "region_df.rename(columns={\"country\": \"country_mapping\"}, inplace=True)\n",
    "\n",
    "# Normalize country values\n",
    "region_df[\"country_mapping\"] = region_df[\"country_mapping\"].str.strip().str.lower()\n",
    "full_join_df[\"Country\"] = full_join_df[\"Country\"].str.strip().str.lower()\n",
    "\n",
    "# Join on country\n",
    "final_df = pd.merge(\n",
    "    full_join_df,\n",
    "    region_df,\n",
    "    left_on=\"Country\",\n",
    "    right_on=\"country_mapping\",\n",
    "    how=\"left\"\n",
    ")\n",
    "\n",
    "# Add final region field (can choose which to prefer)\n",
    "#final_df[\"region\"] = final_df[\"region_starting_2016\"].combine_first(final_df[\"region_until_2017\"])"
   ]
  },
  {
   "cell_type": "code",
   "execution_count": 132,
   "id": "96063a83",
   "metadata": {},
   "outputs": [],
   "source": [
    "final_df[\"Final_region\"] = final_df[\"region_starting_2016\"].combine_first(final_df[\"region_until_2017\"])"
   ]
  },
  {
   "cell_type": "code",
   "execution_count": 133,
   "id": "86de1a8a",
   "metadata": {},
   "outputs": [
    {
     "data": {
      "text/html": [
       "<div>\n",
       "<style scoped>\n",
       "    .dataframe tbody tr th:only-of-type {\n",
       "        vertical-align: middle;\n",
       "    }\n",
       "\n",
       "    .dataframe tbody tr th {\n",
       "        vertical-align: top;\n",
       "    }\n",
       "\n",
       "    .dataframe thead th {\n",
       "        text-align: right;\n",
       "    }\n",
       "</style>\n",
       "<table border=\"1\" class=\"dataframe\">\n",
       "  <thead>\n",
       "    <tr style=\"text-align: right;\">\n",
       "      <th></th>\n",
       "      <th>CustomerID</th>\n",
       "      <th>OrderID</th>\n",
       "      <th>EmployeeID</th>\n",
       "      <th>OrderDate</th>\n",
       "      <th>CompanyName</th>\n",
       "      <th>ContactName</th>\n",
       "      <th>ContactTitle</th>\n",
       "      <th>Address</th>\n",
       "      <th>City</th>\n",
       "      <th>Region</th>\n",
       "      <th>...</th>\n",
       "      <th>PressureHpa</th>\n",
       "      <th>WindSpeedMps</th>\n",
       "      <th>CloudCoverage</th>\n",
       "      <th>WeatherMain</th>\n",
       "      <th>WeatherDescription</th>\n",
       "      <th>HasWeather</th>\n",
       "      <th>country_mapping</th>\n",
       "      <th>region_starting_2016</th>\n",
       "      <th>region_until_2017</th>\n",
       "      <th>Final_region</th>\n",
       "    </tr>\n",
       "  </thead>\n",
       "  <tbody>\n",
       "    <tr>\n",
       "      <th>0</th>\n",
       "      <td>VINET</td>\n",
       "      <td>10248</td>\n",
       "      <td>5</td>\n",
       "      <td>2016-07-04</td>\n",
       "      <td>Vins et alcools Chevalier</td>\n",
       "      <td>Paul Henriot</td>\n",
       "      <td>Accounting Manager</td>\n",
       "      <td>59 rue de l'Abbaye</td>\n",
       "      <td>Reims</td>\n",
       "      <td>Western Europe</td>\n",
       "      <td>...</td>\n",
       "      <td>NaN</td>\n",
       "      <td>NaN</td>\n",
       "      <td>NaN</td>\n",
       "      <td>NaN</td>\n",
       "      <td>NaN</td>\n",
       "      <td>False</td>\n",
       "      <td>france</td>\n",
       "      <td>France</td>\n",
       "      <td>Europe</td>\n",
       "      <td>France</td>\n",
       "    </tr>\n",
       "    <tr>\n",
       "      <th>1</th>\n",
       "      <td>TOMSP</td>\n",
       "      <td>10249</td>\n",
       "      <td>6</td>\n",
       "      <td>2016-07-05</td>\n",
       "      <td>Toms Spezialitäten</td>\n",
       "      <td>Karin Josephs</td>\n",
       "      <td>Marketing Manager</td>\n",
       "      <td>Luisenstr. 48</td>\n",
       "      <td>Munster</td>\n",
       "      <td>Western Europe</td>\n",
       "      <td>...</td>\n",
       "      <td>1015.0</td>\n",
       "      <td>2.57</td>\n",
       "      <td>40.0</td>\n",
       "      <td>Clouds</td>\n",
       "      <td>scattered clouds</td>\n",
       "      <td>True</td>\n",
       "      <td>germany</td>\n",
       "      <td>Germany</td>\n",
       "      <td>Europe</td>\n",
       "      <td>Germany</td>\n",
       "    </tr>\n",
       "    <tr>\n",
       "      <th>2</th>\n",
       "      <td>HANAR</td>\n",
       "      <td>10250</td>\n",
       "      <td>4</td>\n",
       "      <td>2016-07-08</td>\n",
       "      <td>Hanari Carnes</td>\n",
       "      <td>Mario Pontes</td>\n",
       "      <td>Accounting Manager</td>\n",
       "      <td>Rua do Paço, 67</td>\n",
       "      <td>Rio De Janeiro</td>\n",
       "      <td>South America</td>\n",
       "      <td>...</td>\n",
       "      <td>1013.0</td>\n",
       "      <td>12.35</td>\n",
       "      <td>0.0</td>\n",
       "      <td>Clear</td>\n",
       "      <td>clear sky</td>\n",
       "      <td>True</td>\n",
       "      <td>brazil</td>\n",
       "      <td>Brazil</td>\n",
       "      <td>USA</td>\n",
       "      <td>Brazil</td>\n",
       "    </tr>\n",
       "    <tr>\n",
       "      <th>3</th>\n",
       "      <td>VICTE</td>\n",
       "      <td>10251</td>\n",
       "      <td>3</td>\n",
       "      <td>2016-07-08</td>\n",
       "      <td>Victuailles en stock</td>\n",
       "      <td>Mary Saveley</td>\n",
       "      <td>Sales Agent</td>\n",
       "      <td>2, rue du Commerce</td>\n",
       "      <td>Lyon</td>\n",
       "      <td>Western Europe</td>\n",
       "      <td>...</td>\n",
       "      <td>NaN</td>\n",
       "      <td>NaN</td>\n",
       "      <td>NaN</td>\n",
       "      <td>NaN</td>\n",
       "      <td>NaN</td>\n",
       "      <td>False</td>\n",
       "      <td>france</td>\n",
       "      <td>France</td>\n",
       "      <td>Europe</td>\n",
       "      <td>France</td>\n",
       "    </tr>\n",
       "    <tr>\n",
       "      <th>4</th>\n",
       "      <td>SUPRD</td>\n",
       "      <td>10252</td>\n",
       "      <td>4</td>\n",
       "      <td>2016-07-09</td>\n",
       "      <td>Suprêmes délices</td>\n",
       "      <td>Pascale Cartrain</td>\n",
       "      <td>Accounting Manager</td>\n",
       "      <td>Boulevard Tirou, 255</td>\n",
       "      <td>Charleroi</td>\n",
       "      <td>Western Europe</td>\n",
       "      <td>...</td>\n",
       "      <td>1019.0</td>\n",
       "      <td>2.57</td>\n",
       "      <td>40.0</td>\n",
       "      <td>Clouds</td>\n",
       "      <td>scattered clouds</td>\n",
       "      <td>True</td>\n",
       "      <td>belgium</td>\n",
       "      <td>France</td>\n",
       "      <td>Europe</td>\n",
       "      <td>France</td>\n",
       "    </tr>\n",
       "  </tbody>\n",
       "</table>\n",
       "<p>5 rows × 28 columns</p>\n",
       "</div>"
      ],
      "text/plain": [
       "  CustomerID  OrderID  EmployeeID   OrderDate                CompanyName  \\\n",
       "0      VINET    10248           5  2016-07-04  Vins et alcools Chevalier   \n",
       "1      TOMSP    10249           6  2016-07-05         Toms Spezialitäten   \n",
       "2      HANAR    10250           4  2016-07-08              Hanari Carnes   \n",
       "3      VICTE    10251           3  2016-07-08       Victuailles en stock   \n",
       "4      SUPRD    10252           4  2016-07-09           Suprêmes délices   \n",
       "\n",
       "        ContactName        ContactTitle               Address            City  \\\n",
       "0      Paul Henriot  Accounting Manager    59 rue de l'Abbaye           Reims   \n",
       "1     Karin Josephs   Marketing Manager         Luisenstr. 48         Munster   \n",
       "2      Mario Pontes  Accounting Manager       Rua do Paço, 67  Rio De Janeiro   \n",
       "3      Mary Saveley         Sales Agent    2, rue du Commerce            Lyon   \n",
       "4  Pascale Cartrain  Accounting Manager  Boulevard Tirou, 255       Charleroi   \n",
       "\n",
       "           Region  ... PressureHpa WindSpeedMps CloudCoverage  WeatherMain  \\\n",
       "0  Western Europe  ...         NaN          NaN           NaN          NaN   \n",
       "1  Western Europe  ...      1015.0         2.57          40.0       Clouds   \n",
       "2   South America  ...      1013.0        12.35           0.0        Clear   \n",
       "3  Western Europe  ...         NaN          NaN           NaN          NaN   \n",
       "4  Western Europe  ...      1019.0         2.57          40.0       Clouds   \n",
       "\n",
       "   WeatherDescription  HasWeather  country_mapping  region_starting_2016  \\\n",
       "0                 NaN       False           france                France   \n",
       "1    scattered clouds        True          germany               Germany   \n",
       "2           clear sky        True           brazil                Brazil   \n",
       "3                 NaN       False           france                France   \n",
       "4    scattered clouds        True          belgium                France   \n",
       "\n",
       "   region_until_2017  Final_region  \n",
       "0             Europe        France  \n",
       "1             Europe       Germany  \n",
       "2                USA        Brazil  \n",
       "3             Europe        France  \n",
       "4             Europe        France  \n",
       "\n",
       "[5 rows x 28 columns]"
      ]
     },
     "execution_count": 133,
     "metadata": {},
     "output_type": "execute_result"
    }
   ],
   "source": [
    "final_df.head()  # Display the first few rows of the final DataFrame"
   ]
  },
  {
   "cell_type": "code",
   "execution_count": 162,
   "id": "fb357b78",
   "metadata": {},
   "outputs": [
    {
     "name": "stderr",
     "output_type": "stream",
     "text": [
      "2025-07-29 00:32:09 [INFO] Connecting to database at C:\\\\Users\\\\user\\\\innio_case_study\\\\data\\\\northwind.db\n",
      "2025-07-29 00:32:09 [INFO] Connecting to database at C:\\\\Users\\\\user\\\\innio_case_study\\\\data\\\\warehouse.db\n",
      "2025-07-29 00:32:09 [INFO] Extracting 'Customers' into 'raw_customers'\n",
      "2025-07-29 00:32:09 [INFO]   Retrieved 93 rows from Customers\n",
      "2025-07-29 00:32:09 [INFO]   Loaded 93 rows into raw_customers\n",
      "2025-07-29 00:32:09 [INFO] Extracting 'Orders' into 'raw_orders'\n",
      "2025-07-29 00:32:09 [INFO]   Retrieved 16282 rows from Orders\n",
      "2025-07-29 00:32:09 [INFO]   Loaded 16282 rows into raw_orders\n",
      "2025-07-29 00:32:09 [INFO] Reading region mapping from 'C:\\\\Users\\\\user\\\\innio_case_study\\\\data\\\\region_mapping.xlsx'\n",
      "2025-07-29 00:32:09 [INFO]   Read 21 rows from region mapping\n",
      "2025-07-29 00:32:09 [INFO]   Loaded 21 rows into raw_region_mapping\n",
      "2025-07-29 00:32:09 [INFO] Extract process completed successfully.\n"
     ]
    }
   ],
   "source": [
    "%run extract.py \\\n",
    "    \"C:\\\\Users\\\\user\\\\innio_case_study\\\\data\\\\northwind.db\" \\\n",
    "    \"C:\\\\Users\\\\user\\\\innio_case_study\\\\data\\\\warehouse.db\" \\\n",
    "    \"C:\\\\Users\\\\user\\\\innio_case_study\\\\data\\\\region_mapping.xlsx\"\n"
   ]
  },
  {
   "cell_type": "code",
   "execution_count": 173,
   "id": "cae5c169",
   "metadata": {},
   "outputs": [
    {
     "name": "stderr",
     "output_type": "stream",
     "text": [
      "2025-07-29 00:57:09 [INFO] Connecting to database at C:\\\\Users\\\\user\\\\innio_case_study\\\\data\\\\warehouse.db\n",
      "2025-07-29 00:57:09 [INFO] Transform: building stg_order_customer\n",
      "2025-07-29 00:57:09 [INFO] Loaded 16282 rows into stg_order_customer\n",
      "2025-07-29 00:57:09 [INFO] Transform: building stg_order_customer_region\n",
      "2025-07-29 00:57:09 [WARNING] 335 orders without region mapping\n",
      "2025-07-29 00:57:09 [WARNING] 335 orders without region mapping\n",
      "2025-07-29 00:57:09 [INFO] Loaded 16282 rows into stg_order_customer_region\n",
      "2025-07-29 00:57:09 [INFO] Transform process completed successfully.\n"
     ]
    }
   ],
   "source": [
    "# In a Jupyter cell:\n",
    "%run transform.py \\\n",
    "    C:\\\\Users\\\\user\\\\innio_case_study\\\\data\\\\warehouse.db \\\n",
    "    C:\\\\Users\\\\user\\\\innio_case_study\\\\data\\\\region_mapping.xlsx\n"
   ]
  },
  {
   "cell_type": "code",
   "execution_count": 182,
   "id": "e685078c",
   "metadata": {},
   "outputs": [
    {
     "name": "stderr",
     "output_type": "stream",
     "text": [
      "2025-07-29 01:08:28 [INFO] Connecting to database at C:\\\\Users\\\\user\\\\innio_case_study\\\\data\\\\warehouse.db\n",
      "2025-07-29 01:08:28 [INFO] Loading dimension table 'dim_customer'\n",
      "2025-07-29 01:08:33 [ERROR] Load process failed\n",
      "Traceback (most recent call last):\n",
      "  File \"c:\\Users\\user\\innio_case_study\\venv\\Lib\\site-packages\\pandas\\io\\sql.py\", line 2664, in execute\n",
      "    cur.execute(sql, *args)\n",
      "sqlite3.OperationalError: database is locked\n",
      "\n",
      "The above exception was the direct cause of the following exception:\n",
      "\n",
      "Traceback (most recent call last):\n",
      "  File \"C:\\Users\\user\\innio_case_study\\scripts\\load.py\", line 150, in main\n",
      "    build_dim_customer(conn)\n",
      "  File \"C:\\Users\\user\\innio_case_study\\scripts\\load.py\", line 29, in build_dim_customer\n",
      "    df.to_sql('dim_customer', conn, if_exists='replace', index=False)\n",
      "  File \"c:\\Users\\user\\innio_case_study\\venv\\Lib\\site-packages\\pandas\\util\\_decorators.py\", line 333, in wrapper\n",
      "    return func(*args, **kwargs)\n",
      "           ^^^^^^^^^^^^^^^^^^^^^\n",
      "  File \"c:\\Users\\user\\innio_case_study\\venv\\Lib\\site-packages\\pandas\\core\\generic.py\", line 3106, in to_sql\n",
      "    return sql.to_sql(\n",
      "           ^^^^^^^^^^^\n",
      "  File \"c:\\Users\\user\\innio_case_study\\venv\\Lib\\site-packages\\pandas\\io\\sql.py\", line 844, in to_sql\n",
      "    return pandas_sql.to_sql(\n",
      "           ^^^^^^^^^^^^^^^^^^\n",
      "  File \"c:\\Users\\user\\innio_case_study\\venv\\Lib\\site-packages\\pandas\\io\\sql.py\", line 2840, in to_sql\n",
      "    table.create()\n",
      "  File \"c:\\Users\\user\\innio_case_study\\venv\\Lib\\site-packages\\pandas\\io\\sql.py\", line 990, in create\n",
      "    self.pd_sql.drop_table(self.name, self.schema)\n",
      "  File \"c:\\Users\\user\\innio_case_study\\venv\\Lib\\site-packages\\pandas\\io\\sql.py\", line 2862, in drop_table\n",
      "    self.execute(drop_sql)\n",
      "  File \"c:\\Users\\user\\innio_case_study\\venv\\Lib\\site-packages\\pandas\\io\\sql.py\", line 2676, in execute\n",
      "    raise ex from exc\n",
      "pandas.errors.DatabaseError: Execution failed on sql 'DROP TABLE \"dim_customer\"': database is locked\n"
     ]
    },
    {
     "ename": "SystemExit",
     "evalue": "1",
     "output_type": "error",
     "traceback": [
      "An exception has occurred, use %tb to see the full traceback.\n",
      "\u001b[31mSystemExit\u001b[39m\u001b[31m:\u001b[39m 1\n"
     ]
    }
   ],
   "source": [
    "%run load.py C:\\\\Users\\\\user\\\\innio_case_study\\\\data\\\\warehouse.db "
   ]
  },
  {
   "cell_type": "code",
   "execution_count": 174,
   "id": "f9f28469",
   "metadata": {},
   "outputs": [
    {
     "name": "stderr",
     "output_type": "stream",
     "text": [
      "2025-07-29 00:57:13 [INFO] Connecting to database at C:\\\\Users\\\\user\\\\innio_case_study\\\\data\\\\warehouse.db\n",
      "2025-07-29 00:57:13 [INFO] Found 70 unique cities\n",
      "C:\\Users\\user\\innio_case_study\\scripts\\weather_api.py:48: DeprecationWarning: datetime.datetime.utcfromtimestamp() is deprecated and scheduled for removal in a future version. Use timezone-aware objects to represent datetimes in UTC: datetime.datetime.fromtimestamp(timestamp, datetime.UTC).\n",
      "  'weather_timestamp': datetime.utcfromtimestamp(d.get('dt', 0))\n",
      "2025-07-29 00:57:13 [INFO] Fetched weather for Berlin: 18.16°C, few clouds\n",
      "2025-07-29 00:57:13 [WARNING] Failed for 'México D.F.': 404 Client Error: Not Found for url: https://api.openweathermap.org/data/2.5/weather?q=M%C3%A9xico+D.F.&appid=8de9abed422e492a58cf716b0e24caf0&units=metric\n",
      "2025-07-29 00:57:13 [INFO] Fetched weather for London: 18.75°C, broken clouds\n",
      "2025-07-29 00:57:13 [INFO] Fetched weather for Luleå: 20.04°C, overcast clouds\n",
      "2025-07-29 00:57:13 [INFO] Fetched weather for Mannheim: 15.93°C, scattered clouds\n",
      "2025-07-29 00:57:13 [INFO] Fetched weather for Strasbourg: 14.97°C, clear sky\n",
      "2025-07-29 00:57:13 [INFO] Fetched weather for Madrid: 20.86°C, clear sky\n",
      "2025-07-29 00:57:14 [INFO] Fetched weather for Marseille: 18.37°C, scattered clouds\n",
      "2025-07-29 00:57:14 [WARNING] Failed for 'Tsawassen': 404 Client Error: Not Found for url: https://api.openweathermap.org/data/2.5/weather?q=Tsawassen&appid=8de9abed422e492a58cf716b0e24caf0&units=metric\n",
      "2025-07-29 00:57:14 [INFO] Fetched weather for Buenos Aires: 11.11°C, clear sky\n",
      "2025-07-29 00:57:14 [INFO] Fetched weather for Bern: 12.68°C, overcast clouds\n",
      "2025-07-29 00:57:14 [INFO] Fetched weather for Sao Paulo: 19.2°C, clear sky\n",
      "2025-07-29 00:57:14 [INFO] Fetched weather for Aachen: 14.14°C, scattered clouds\n",
      "2025-07-29 00:57:14 [INFO] Fetched weather for Nantes: 15.96°C, clear sky\n",
      "2025-07-29 00:57:14 [INFO] Fetched weather for Graz: 17.25°C, scattered clouds\n",
      "2025-07-29 00:57:14 [INFO] Fetched weather for Lille: 16.7°C, clear sky\n",
      "2025-07-29 00:57:15 [INFO] Fetched weather for Bräcke: 15.6°C, overcast clouds\n",
      "2025-07-29 00:57:15 [INFO] Fetched weather for München: 13.41°C, overcast clouds\n",
      "2025-07-29 00:57:15 [INFO] Fetched weather for Torino: 12.63°C, clear sky\n",
      "2025-07-29 00:57:15 [INFO] Fetched weather for Lisboa: 23.66°C, clear sky\n",
      "2025-07-29 00:57:15 [INFO] Fetched weather for Barcelona: 23.17°C, broken clouds\n",
      "2025-07-29 00:57:15 [INFO] Fetched weather for Sevilla: 24.08°C, clear sky\n",
      "2025-07-29 00:57:15 [INFO] Fetched weather for Campinas: 19.89°C, scattered clouds\n",
      "2025-07-29 00:57:16 [INFO] Fetched weather for Eugene: 29.5°C, clear sky\n",
      "2025-07-29 00:57:16 [INFO] Fetched weather for Caracas: 22.67°C, scattered clouds\n",
      "2025-07-29 00:57:16 [INFO] Fetched weather for Rio de Janeiro: 25.17°C, clear sky\n",
      "2025-07-29 00:57:16 [INFO] Fetched weather for San Cristóbal: 27.08°C, broken clouds\n",
      "2025-07-29 00:57:16 [INFO] Fetched weather for Elgin: 32.35°C, broken clouds\n",
      "2025-07-29 00:57:16 [INFO] Fetched weather for Cork: 17.87°C, broken clouds\n",
      "2025-07-29 00:57:16 [INFO] Fetched weather for Cowes: 16.43°C, broken clouds\n",
      "2025-07-29 00:57:16 [INFO] Fetched weather for Brandenburg: 16.6°C, few clouds\n",
      "2025-07-29 00:57:16 [INFO] Fetched weather for Versailles: 15.45°C, clear sky\n",
      "2025-07-29 00:57:17 [INFO] Fetched weather for Toulouse: 19.99°C, clear sky\n",
      "2025-07-29 00:57:17 [INFO] Fetched weather for Vancouver: 25.52°C, few clouds\n",
      "2025-07-29 00:57:17 [INFO] Fetched weather for Walla Walla: 33.49°C, clear sky\n",
      "2025-07-29 00:57:17 [WARNING] Failed for 'Frankfurt a.M.': 404 Client Error: Not Found for url: https://api.openweathermap.org/data/2.5/weather?q=Frankfurt+a.M.&appid=8de9abed422e492a58cf716b0e24caf0&units=metric\n",
      "2025-07-29 00:57:17 [INFO] Fetched weather for San Francisco: 19.67°C, scattered clouds\n",
      "2025-07-29 00:57:17 [INFO] Fetched weather for Barquisimeto: 24.96°C, broken clouds\n",
      "2025-07-29 00:57:17 [WARNING] Failed for 'I. de Margarita': 404 Client Error: Not Found for url: https://api.openweathermap.org/data/2.5/weather?q=I.+de+Margarita&appid=8de9abed422e492a58cf716b0e24caf0&units=metric\n",
      "2025-07-29 00:57:17 [INFO] Fetched weather for Portland: 29.68°C, clear sky\n",
      "2025-07-29 00:57:17 [INFO] Fetched weather for Bergamo: 17.56°C, few clouds\n",
      "2025-07-29 00:57:18 [INFO] Fetched weather for Bruxelles: 14.47°C, scattered clouds\n",
      "2025-07-29 00:57:18 [INFO] Fetched weather for Montréal: 30.82°C, scattered clouds\n",
      "2025-07-29 00:57:18 [INFO] Fetched weather for Leipzig: 16.9°C, few clouds\n",
      "2025-07-29 00:57:18 [INFO] Fetched weather for Anchorage: 21.65°C, clear sky\n",
      "2025-07-29 00:57:18 [INFO] Fetched weather for Köln: 15.44°C, scattered clouds\n",
      "2025-07-29 00:57:18 [INFO] Fetched weather for Paris: 16.08°C, clear sky\n",
      "2025-07-29 00:57:18 [INFO] Fetched weather for Salzburg: 13.98°C, shower rain\n",
      "2025-07-29 00:57:19 [INFO] Fetched weather for Cunewalde: 14.51°C, overcast clouds\n",
      "2025-07-29 00:57:19 [INFO] Fetched weather for Albuquerque: 32.29°C, light rain\n",
      "2025-07-29 00:57:19 [INFO] Fetched weather for Reggio Emilia: 17.33°C, overcast clouds\n",
      "2025-07-29 00:57:19 [INFO] Fetched weather for Genève: 14.18°C, scattered clouds\n",
      "2025-07-29 00:57:19 [INFO] Fetched weather for Stavern: 15.66°C, clear sky\n",
      "2025-07-29 00:57:19 [INFO] Fetched weather for Boise: 33.52°C, clear sky\n",
      "2025-07-29 00:57:19 [INFO] Fetched weather for Kobenhavn: 16.91°C, few clouds\n",
      "2025-07-29 00:57:19 [INFO] Fetched weather for Lander: 32.45°C, clear sky\n",
      "2025-07-29 00:57:20 [INFO] Fetched weather for Charleroi: 12.28°C, broken clouds\n",
      "2025-07-29 00:57:20 [INFO] Fetched weather for Butte: 32.48°C, clear sky\n",
      "2025-07-29 00:57:20 [INFO] Fetched weather for Münster: 15.48°C, clear sky\n",
      "2025-07-29 00:57:20 [INFO] Fetched weather for Kirkland: 27.15°C, clear sky\n",
      "2025-07-29 00:57:20 [INFO] Fetched weather for Århus: 14.31°C, clear sky\n",
      "2025-07-29 00:57:20 [WARNING] Failed for None: 400 Client Error: Bad Request for url: https://api.openweathermap.org/data/2.5/weather?appid=8de9abed422e492a58cf716b0e24caf0&units=metric\n",
      "2025-07-29 00:57:20 [INFO] Fetched weather for Lyon: 14.77°C, broken clouds\n",
      "2025-07-29 00:57:20 [INFO] Fetched weather for Reims: 15.25°C, overcast clouds\n",
      "2025-07-29 00:57:20 [INFO] Fetched weather for Stuttgart: 14.56°C, clear sky\n",
      "2025-07-29 00:57:21 [INFO] Fetched weather for Oulu: 17.84°C, clear sky\n",
      "2025-07-29 00:57:21 [INFO] Fetched weather for Resende: 21.36°C, few clouds\n",
      "2025-07-29 00:57:21 [INFO] Fetched weather for Seattle: 27.2°C, clear sky\n",
      "2025-07-29 00:57:21 [INFO] Fetched weather for Helsinki: 22.01°C, clear sky\n",
      "2025-07-29 00:57:21 [INFO] Fetched weather for Warszawa: 16.12°C, broken clouds\n",
      "2025-07-29 00:57:21 [INFO] Loaded raw_weather with 65 rows\n"
     ]
    }
   ],
   "source": [
    "%run weather_api.py C:\\\\Users\\\\user\\\\innio_case_study\\\\data\\\\warehouse.db 8de9abed422e492a58cf716b0e24caf0"
   ]
  },
  {
   "cell_type": "code",
   "execution_count": 180,
   "id": "6e8629ba",
   "metadata": {},
   "outputs": [
    {
     "ename": "ProgrammingError",
     "evalue": "Cannot operate on a closed database.",
     "output_type": "error",
     "traceback": [
      "\u001b[31m---------------------------------------------------------------------------\u001b[39m",
      "\u001b[31mProgrammingError\u001b[39m                          Traceback (most recent call last)",
      "\u001b[36mCell\u001b[39m\u001b[36m \u001b[39m\u001b[32mIn[180]\u001b[39m\u001b[32m, line 1\u001b[39m\n\u001b[32m----> \u001b[39m\u001b[32m1\u001b[39m \u001b[43mpd\u001b[49m\u001b[43m.\u001b[49m\u001b[43mread_sql\u001b[49m\u001b[43m(\u001b[49m\u001b[33;43m\"\u001b[39;49m\u001b[33;43mSELECT * FROM view_order_analysis LIMIT 5\u001b[39;49m\u001b[33;43m\"\u001b[39;49m\u001b[43m,\u001b[49m\u001b[43m \u001b[49m\u001b[43mconn\u001b[49m\u001b[43m)\u001b[49m\n",
      "\u001b[36mFile \u001b[39m\u001b[32mc:\\Users\\user\\innio_case_study\\venv\\Lib\\site-packages\\pandas\\io\\sql.py:708\u001b[39m, in \u001b[36mread_sql\u001b[39m\u001b[34m(sql, con, index_col, coerce_float, params, parse_dates, columns, chunksize, dtype_backend, dtype)\u001b[39m\n\u001b[32m    706\u001b[39m \u001b[38;5;28;01mwith\u001b[39;00m pandasSQL_builder(con) \u001b[38;5;28;01mas\u001b[39;00m pandas_sql:\n\u001b[32m    707\u001b[39m     \u001b[38;5;28;01mif\u001b[39;00m \u001b[38;5;28misinstance\u001b[39m(pandas_sql, SQLiteDatabase):\n\u001b[32m--> \u001b[39m\u001b[32m708\u001b[39m         \u001b[38;5;28;01mreturn\u001b[39;00m \u001b[43mpandas_sql\u001b[49m\u001b[43m.\u001b[49m\u001b[43mread_query\u001b[49m\u001b[43m(\u001b[49m\n\u001b[32m    709\u001b[39m \u001b[43m            \u001b[49m\u001b[43msql\u001b[49m\u001b[43m,\u001b[49m\n\u001b[32m    710\u001b[39m \u001b[43m            \u001b[49m\u001b[43mindex_col\u001b[49m\u001b[43m=\u001b[49m\u001b[43mindex_col\u001b[49m\u001b[43m,\u001b[49m\n\u001b[32m    711\u001b[39m \u001b[43m            \u001b[49m\u001b[43mparams\u001b[49m\u001b[43m=\u001b[49m\u001b[43mparams\u001b[49m\u001b[43m,\u001b[49m\n\u001b[32m    712\u001b[39m \u001b[43m            \u001b[49m\u001b[43mcoerce_float\u001b[49m\u001b[43m=\u001b[49m\u001b[43mcoerce_float\u001b[49m\u001b[43m,\u001b[49m\n\u001b[32m    713\u001b[39m \u001b[43m            \u001b[49m\u001b[43mparse_dates\u001b[49m\u001b[43m=\u001b[49m\u001b[43mparse_dates\u001b[49m\u001b[43m,\u001b[49m\n\u001b[32m    714\u001b[39m \u001b[43m            \u001b[49m\u001b[43mchunksize\u001b[49m\u001b[43m=\u001b[49m\u001b[43mchunksize\u001b[49m\u001b[43m,\u001b[49m\n\u001b[32m    715\u001b[39m \u001b[43m            \u001b[49m\u001b[43mdtype_backend\u001b[49m\u001b[43m=\u001b[49m\u001b[43mdtype_backend\u001b[49m\u001b[43m,\u001b[49m\n\u001b[32m    716\u001b[39m \u001b[43m            \u001b[49m\u001b[43mdtype\u001b[49m\u001b[43m=\u001b[49m\u001b[43mdtype\u001b[49m\u001b[43m,\u001b[49m\n\u001b[32m    717\u001b[39m \u001b[43m        \u001b[49m\u001b[43m)\u001b[49m\n\u001b[32m    719\u001b[39m     \u001b[38;5;28;01mtry\u001b[39;00m:\n\u001b[32m    720\u001b[39m         _is_table_name = pandas_sql.has_table(sql)\n",
      "\u001b[36mFile \u001b[39m\u001b[32mc:\\Users\\user\\innio_case_study\\venv\\Lib\\site-packages\\pandas\\io\\sql.py:2728\u001b[39m, in \u001b[36mSQLiteDatabase.read_query\u001b[39m\u001b[34m(self, sql, index_col, coerce_float, parse_dates, params, chunksize, dtype, dtype_backend)\u001b[39m\n\u001b[32m   2717\u001b[39m \u001b[38;5;28;01mdef\u001b[39;00m\u001b[38;5;250m \u001b[39m\u001b[34mread_query\u001b[39m(\n\u001b[32m   2718\u001b[39m     \u001b[38;5;28mself\u001b[39m,\n\u001b[32m   2719\u001b[39m     sql,\n\u001b[32m   (...)\u001b[39m\u001b[32m   2726\u001b[39m     dtype_backend: DtypeBackend | Literal[\u001b[33m\"\u001b[39m\u001b[33mnumpy\u001b[39m\u001b[33m\"\u001b[39m] = \u001b[33m\"\u001b[39m\u001b[33mnumpy\u001b[39m\u001b[33m\"\u001b[39m,\n\u001b[32m   2727\u001b[39m ) -> DataFrame | Iterator[DataFrame]:\n\u001b[32m-> \u001b[39m\u001b[32m2728\u001b[39m     cursor = \u001b[38;5;28;43mself\u001b[39;49m\u001b[43m.\u001b[49m\u001b[43mexecute\u001b[49m\u001b[43m(\u001b[49m\u001b[43msql\u001b[49m\u001b[43m,\u001b[49m\u001b[43m \u001b[49m\u001b[43mparams\u001b[49m\u001b[43m)\u001b[49m\n\u001b[32m   2729\u001b[39m     columns = [col_desc[\u001b[32m0\u001b[39m] \u001b[38;5;28;01mfor\u001b[39;00m col_desc \u001b[38;5;129;01min\u001b[39;00m cursor.description]\n\u001b[32m   2731\u001b[39m     \u001b[38;5;28;01mif\u001b[39;00m chunksize \u001b[38;5;129;01mis\u001b[39;00m \u001b[38;5;129;01mnot\u001b[39;00m \u001b[38;5;28;01mNone\u001b[39;00m:\n",
      "\u001b[36mFile \u001b[39m\u001b[32mc:\\Users\\user\\innio_case_study\\venv\\Lib\\site-packages\\pandas\\io\\sql.py:2662\u001b[39m, in \u001b[36mSQLiteDatabase.execute\u001b[39m\u001b[34m(self, sql, params)\u001b[39m\n\u001b[32m   2660\u001b[39m     \u001b[38;5;28;01mraise\u001b[39;00m \u001b[38;5;167;01mTypeError\u001b[39;00m(\u001b[33m\"\u001b[39m\u001b[33mQuery must be a string unless using sqlalchemy.\u001b[39m\u001b[33m\"\u001b[39m)\n\u001b[32m   2661\u001b[39m args = [] \u001b[38;5;28;01mif\u001b[39;00m params \u001b[38;5;129;01mis\u001b[39;00m \u001b[38;5;28;01mNone\u001b[39;00m \u001b[38;5;28;01melse\u001b[39;00m [params]\n\u001b[32m-> \u001b[39m\u001b[32m2662\u001b[39m cur = \u001b[38;5;28;43mself\u001b[39;49m\u001b[43m.\u001b[49m\u001b[43mcon\u001b[49m\u001b[43m.\u001b[49m\u001b[43mcursor\u001b[49m\u001b[43m(\u001b[49m\u001b[43m)\u001b[49m\n\u001b[32m   2663\u001b[39m \u001b[38;5;28;01mtry\u001b[39;00m:\n\u001b[32m   2664\u001b[39m     cur.execute(sql, *args)\n",
      "\u001b[31mProgrammingError\u001b[39m: Cannot operate on a closed database."
     ]
    }
   ],
   "source": [
    "pd.read_sql(\"SELECT * FROM view_order_analysis LIMIT 5\", conn)\n"
   ]
  }
 ],
 "metadata": {
  "kernelspec": {
   "display_name": "venv",
   "language": "python",
   "name": "python3"
  },
  "language_info": {
   "codemirror_mode": {
    "name": "ipython",
    "version": 3
   },
   "file_extension": ".py",
   "mimetype": "text/x-python",
   "name": "python",
   "nbconvert_exporter": "python",
   "pygments_lexer": "ipython3",
   "version": "3.12.10"
  }
 },
 "nbformat": 4,
 "nbformat_minor": 5
}
